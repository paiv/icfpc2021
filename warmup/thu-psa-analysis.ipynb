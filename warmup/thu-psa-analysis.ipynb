{
 "cells": [
  {
   "cell_type": "code",
   "execution_count": 1,
   "id": "e732c434",
   "metadata": {},
   "outputs": [],
   "source": [
    "code_a = 'vbtib.lafvj'\n",
    "code_b = 'KE7ZFnZQ59D'\n",
    "\n",
    "code_c = 'ta.jvfblvbi'\n",
    "code_d = 'Te6XDacTWXn'"
   ]
  },
  {
   "cell_type": "code",
   "execution_count": 2,
   "id": "a75715ed",
   "metadata": {},
   "outputs": [
    {
     "data": {
      "text/plain": [
       "(11, 11, 11)"
      ]
     },
     "execution_count": 2,
     "metadata": {},
     "output_type": "execute_result"
    }
   ],
   "source": [
    "len(code_a), len('icfpcontest'), len('icfpc begin')"
   ]
  },
  {
   "cell_type": "code",
   "execution_count": 7,
   "id": "a6780216",
   "metadata": {},
   "outputs": [
    {
     "data": {
      "text/plain": [
       "(True, False)"
      ]
     },
     "execution_count": 7,
     "metadata": {},
     "output_type": "execute_result"
    }
   ],
   "source": [
    "sorted(code_a) == sorted(code_c), sorted(code_b) == sorted(code_d)"
   ]
  },
  {
   "cell_type": "code",
   "execution_count": 19,
   "id": "fe2b5de6",
   "metadata": {},
   "outputs": [
    {
     "data": {
      "text/plain": [
       "(8, 8)"
      ]
     },
     "execution_count": 19,
     "metadata": {},
     "output_type": "execute_result"
    }
   ],
   "source": [
    "import base64\n",
    "code_bb = base64.b64decode(code_b + '=')\n",
    "code_db = base64.b64decode(code_d + '=')\n",
    "len(code_bb), len(code_db)"
   ]
  },
  {
   "cell_type": "code",
   "execution_count": 30,
   "id": "2dab195e",
   "metadata": {},
   "outputs": [
    {
     "data": {
      "text/plain": [
       "b'\\xbd\\xbbbnV\\x9f\\xbe'"
      ]
     },
     "execution_count": 30,
     "metadata": {},
     "output_type": "execute_result"
    }
   ],
   "source": [
    "base64.b64decode(code_a + '==')"
   ]
  }
 ],
 "metadata": {
  "kernelspec": {
   "display_name": "Python 3 (ipykernel)",
   "language": "python",
   "name": "python3"
  },
  "language_info": {
   "codemirror_mode": {
    "name": "ipython",
    "version": 3
   },
   "file_extension": ".py",
   "mimetype": "text/x-python",
   "name": "python",
   "nbconvert_exporter": "python",
   "pygments_lexer": "ipython3",
   "version": "3.9.4"
  }
 },
 "nbformat": 4,
 "nbformat_minor": 5
}
