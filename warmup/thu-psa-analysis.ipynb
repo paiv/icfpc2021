{
 "cells": [
  {
   "cell_type": "code",
   "execution_count": 1,
   "id": "e732c434",
   "metadata": {},
   "outputs": [],
   "source": [
    "code_a = 'vbtib.lafvj'\n",
    "code_b = 'KE7ZFnZQ59D'\n",
    "\n",
    "code_c = 'ta.jvfblvbi'\n",
    "code_d = 'Te6XDacTWXn'"
   ]
  },
  {
   "cell_type": "code",
   "execution_count": 2,
   "id": "a75715ed",
   "metadata": {},
   "outputs": [
    {
     "data": {
      "text/plain": [
       "(11, 11)"
      ]
     },
     "execution_count": 2,
     "metadata": {},
     "output_type": "execute_result"
    }
   ],
   "source": [
    "len(code_a), len('youtube.com')"
   ]
  },
  {
   "cell_type": "code",
   "execution_count": 3,
   "id": "a6780216",
   "metadata": {},
   "outputs": [
    {
     "name": "stdout",
     "output_type": "stream",
     "text": [
      "19 .bcemootuuy .bcemootuuy\n"
     ]
    }
   ],
   "source": [
    "import string\n",
    "def rotx(s, k):\n",
    "    lo = string.ascii_lowercase\n",
    "    hi = string.ascii_uppercase\n",
    "    dx = string.digits\n",
    "    q = k % len(lo)\n",
    "    n = k % len(dx)\n",
    "    tr = str.maketrans(lo + hi + dx, lo[q:] + lo[:q] + hi[q:] + hi[:q] + dx[n:] + dx[:n])\n",
    "    return s.translate(tr)\n",
    "\n",
    "for k in range(26):\n",
    "    s, t = ''.join(sorted(rotx(code_a, k))), ''.join(sorted('youtube.com'))\n",
    "    if s == t:\n",
    "        print(k, s, t); break"
   ]
  },
  {
   "cell_type": "code",
   "execution_count": 4,
   "id": "a7f72952",
   "metadata": {},
   "outputs": [
    {
     "data": {
      "text/plain": [
       "(19, 19)"
      ]
     },
     "execution_count": 4,
     "metadata": {},
     "output_type": "execute_result"
    }
   ],
   "source": [
    "k, 2021 % 26"
   ]
  },
  {
   "cell_type": "code",
   "execution_count": 5,
   "id": "7a0a820c",
   "metadata": {},
   "outputs": [
    {
     "name": "stdout",
     "output_type": "stream",
     "text": [
      "youtube.com/v/6DXJYSSgW08\n",
      "youtube.com/v/6DYJXSSgW08\n",
      "youtube.com/v/60XJYSSgWD8\n",
      "youtube.com/v/60YJXSSgWD8\n",
      "youtube.com/v/tWvxQgM7QPM\n",
      "youtube.com/v/tWQxvgM7QPM\n",
      "youtube.com/v/tPvxQgM7QWM\n",
      "youtube.com/v/tPQxvgM7QWM\n"
     ]
    }
   ],
   "source": [
    "import itertools\n",
    "def decode(s, mask, k=13):\n",
    "    m = rotx(mask, k)\n",
    "    s = rotx(s, k)\n",
    "    ix = [[(i,j) for j,q in enumerate(m) if q == x] for i,x in enumerate('youtube.com')]\n",
    "    for p in itertools.product(*ix):\n",
    "        if len(set(j for i,j in p)) == len(mask):\n",
    "            print(''.join(m[j] for i,j in p), end='/v/')\n",
    "            print(''.join(s[j] for i,j in p))\n",
    "    \n",
    "decode(code_b, code_a, 2021)\n",
    "decode(code_d, code_c, 2021)"
   ]
  }
 ],
 "metadata": {
  "kernelspec": {
   "display_name": "Python 3 (ipykernel)",
   "language": "python",
   "name": "python3"
  },
  "language_info": {
   "codemirror_mode": {
    "name": "ipython",
    "version": 3
   },
   "file_extension": ".py",
   "mimetype": "text/x-python",
   "name": "python",
   "nbconvert_exporter": "python",
   "pygments_lexer": "ipython3",
   "version": "3.9.6"
  }
 },
 "nbformat": 4,
 "nbformat_minor": 5
}
